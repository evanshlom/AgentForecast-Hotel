{
 "cells": [
  {
   "cell_type": "markdown",
   "metadata": {},
   "source": [
    "# Wynn Resort Forecast Model Tutorial\n",
    "## Part 2: Building the RNN Forecast Model\n",
    "\n",
    "This notebook demonstrates the forecasting engine that will power our AI system."
   ]
  },
  {
   "cell_type": "code",
   "execution_count": null,
   "metadata": {},
   "outputs": [],
   "source": [
    "# Install required packages\n",
    "!pip install numpy pandas matplotlib"
   ]
  },
  {
   "cell_type": "code",
   "execution_count": null,
   "metadata": {},
   "outputs": [],
   "source": [
    "import numpy as np\n",
    "import pandas as pd\n",
    "from datetime import datetime, timedelta\n",
    "import matplotlib.pyplot as plt\n",
    "import json"
   ]
  },
  {
   "cell_type": "markdown",
   "metadata": {},
   "source": [
    "## Step 1: Generate Historical Data\n",
    "Creating realistic Vegas hotel patterns with hourly granularity"
   ]
  },
  {
   "cell_type": "code",
   "execution_count": null,
   "metadata": {},
   "outputs": [],
   "source": [
    "def generate_historical_data():\n",
    "    \"\"\"Generate 6 months of hourly Vegas hotel data\"\"\"\n",
    "    \n",
    "    # Generate hourly data from 6 months ago to now\n",
    "    start_date = datetime.now() - timedelta(days=180)\n",
    "    end_date = datetime.now()\n",
    "    \n",
    "    dates = []\n",
    "    current_date = start_date\n",
    "    while current_date <= end_date:\n",
    "        dates.append(current_date)\n",
    "        current_date += timedelta(hours=1)\n",
    "    \n",
    "    data = []\n",
    "    for date in dates:\n",
    "        hour = date.hour\n",
    "        day_of_week = date.weekday()\n",
    "        \n",
    "        # Base patterns\n",
    "        # Room occupancy: Higher on weekends, peaks at night\n",
    "        if day_of_week >= 4:  # Friday-Sunday\n",
    "            room_base = 85 + 10 * np.sin(2 * np.pi * hour / 24)\n",
    "        else:\n",
    "            room_base = 70 + 15 * np.sin(2 * np.pi * hour / 24)\n",
    "        \n",
    "        # Cleaning staff: Peaks during checkout (10-14) and turndown (18-20)\n",
    "        if 10 <= hour <= 14:\n",
    "            cleaning_base = 80 + (room_base * 0.8)\n",
    "        elif 18 <= hour <= 20:\n",
    "            cleaning_base = 40 + (room_base * 0.3)\n",
    "        else:\n",
    "            cleaning_base = 20 + (room_base * 0.1)\n",
    "        \n",
    "        # Security: Higher at night, especially weekends\n",
    "        if 22 <= hour or hour <= 4:\n",
    "            security_base = 40 + (20 if day_of_week >= 4 else 10)\n",
    "        else:\n",
    "            security_base = 20 + (10 if day_of_week >= 4 else 5)\n",
    "        \n",
    "        # Add noise\n",
    "        rooms = max(0, min(100, room_base + np.random.normal(0, 5)))\n",
    "        cleaning = max(0, cleaning_base + np.random.normal(0, 10))\n",
    "        security = max(0, security_base + np.random.normal(0, 5))\n",
    "        \n",
    "        data.append({\n",
    "            'datetime': date,\n",
    "            'rooms': rooms,\n",
    "            'cleaning': cleaning,\n",
    "            'security': security\n",
    "        })\n",
    "    \n",
    "    return pd.DataFrame(data)\n",
    "\n",
    "# Generate the data\n",
    "historical_data = generate_historical_data()\n",
    "print(f\"Generated {len(historical_data)} hours of historical data\")\n",
    "print(f\"Date range: {historical_data['datetime'].min()} to {historical_data['datetime'].max()}\")\n",
    "historical_data.tail()"
   ]
  },
  {
   "cell_type": "markdown",
   "metadata": {},
   "source": [
    "## Step 2: Build the Forecast Model"
   ]
  },
  {
   "cell_type": "code",
   "execution_count": null,
   "metadata": {},
   "outputs": [],
   "source": [
    "class ForecastRNN:\n",
    "    def __init__(self):\n",
    "        self.metrics = ['rooms', 'cleaning', 'security']\n",
    "        self.model_trained = False\n",
    "        self.base_patterns = {}\n",
    "    \n",
    "    def train(self, historical_data):\n",
    "        \"\"\"Train model by analyzing historical patterns\"\"\"\n",
    "        for metric in self.metrics:\n",
    "            # Calculate hourly averages\n",
    "            hourly_avg = historical_data.groupby(historical_data['datetime'].dt.hour)[metric].mean()\n",
    "            \n",
    "            # Calculate day of week patterns\n",
    "            dow_avg = historical_data.groupby(historical_data['datetime'].dt.dayofweek)[metric].mean()\n",
    "            \n",
    "            # Store patterns\n",
    "            self.base_patterns[metric] = {\n",
    "                'hourly': hourly_avg.to_dict(),\n",
    "                'dow': dow_avg.to_dict(),\n",
    "                'overall_mean': historical_data[metric].mean(),\n",
    "                'overall_std': historical_data[metric].std()\n",
    "            }\n",
    "        \n",
    "        self.model_trained = True\n",
    "        print(\"Model training complete!\")\n",
    "    \n",
    "    def predict(self, historical_data, hours=168):\n",
    "        \"\"\"Generate hourly forecast for next 168 hours (7 days)\"\"\"\n",
    "        if not self.model_trained:\n",
    "            self.train(historical_data)\n",
    "        \n",
    "        forecast_data = []\n",
    "        start_time = datetime.now()\n",
    "        \n",
    "        for i in range(hours):\n",
    "            forecast_time = start_time + timedelta(hours=i+1)\n",
    "            hour = forecast_time.hour\n",
    "            dow = forecast_time.weekday()\n",
    "            \n",
    "            row = {'datetime': forecast_time}\n",
    "            \n",
    "            for metric in self.metrics:\n",
    "                # Combine hourly and day-of-week patterns\n",
    "                hourly_factor = self.base_patterns[metric]['hourly'][hour]\n",
    "                dow_factor = self.base_patterns[metric]['dow'][dow]\n",
    "                base_value = (hourly_factor + dow_factor) / 2\n",
    "                \n",
    "                # Add some random variation\n",
    "                noise = np.random.normal(0, self.base_patterns[metric]['overall_std'] * 0.1)\n",
    "                value = base_value + noise\n",
    "                \n",
    "                # Ensure reasonable bounds\n",
    "                if metric == 'rooms':\n",
    "                    value = max(50, min(100, value))\n",
    "                else:\n",
    "                    value = max(0, value)\n",
    "                \n",
    "                row[metric] = value\n",
    "            \n",
    "            forecast_data.append(row)\n",
    "        \n",
    "        return pd.DataFrame(forecast_data)\n",
    "\n",
    "# Create and train the model\n",
    "model = ForecastRNN()\n",
    "model.train(historical_data)"
   ]
  },
  {
   "cell_type": "markdown",
   "metadata": {},
   "source": [
    "## Step 3: Generate Forecast"
   ]
  },
  {
   "cell_type": "code",
   "execution_count": null,
   "metadata": {},
   "outputs": [],
   "source": [
    "# Generate 168-hour forecast\n",
    "forecast = model.predict(historical_data)\n",
    "print(f\"Generated {len(forecast)} hours of forecast\")\n",
    "forecast.head()"
   ]
  },
  {
   "cell_type": "markdown",
   "metadata": {},
   "source": [
    "## Step 4: Visualize the Forecast"
   ]
  },
  {
   "cell_type": "code",
   "execution_count": null,
   "metadata": {},
   "outputs": [],
   "source": [
    "# Plot the forecast\n",
    "fig, axes = plt.subplots(3, 1, figsize=(15, 10))\n",
    "\n",
    "# Room Occupancy\n",
    "axes[0].plot(forecast['datetime'], forecast['rooms'], color='goldenrod', linewidth=2)\n",
    "axes[0].set_title('Room Occupancy Forecast (%)', fontsize=14)\n",
    "axes[0].set_ylabel('Occupancy %')\n",
    "axes[0].grid(True, alpha=0.3)\n",
    "axes[0].set_ylim(0, 100)\n",
    "\n",
    "# Cleaning Staff\n",
    "axes[1].plot(forecast['datetime'], forecast['cleaning'], color='royalblue', linewidth=2)\n",
    "axes[1].set_title('Cleaning Staff Needed', fontsize=14)\n",
    "axes[1].set_ylabel('Staff Count')\n",
    "axes[1].grid(True, alpha=0.3)\n",
    "\n",
    "# Security Staff\n",
    "axes[2].plot(forecast['datetime'], forecast['security'], color='crimson', linewidth=2)\n",
    "axes[2].set_title('Security Staff Needed', fontsize=14)\n",
    "axes[2].set_ylabel('Staff Count')\n",
    "axes[2].set_xlabel('Date/Time')\n",
    "axes[2].grid(True, alpha=0.3)\n",
    "\n",
    "plt.tight_layout()\n",
    "plt.show()"
   ]
  },
  {
   "cell_type": "markdown",
   "metadata": {},
   "source": [
    "## Step 5: Export Forecast for Frontend"
   ]
  },
  {
   "cell_type": "code",
   "execution_count": null,
   "metadata": {},
   "outputs": [],
   "source": [
    "# Convert to format matching our frontend\n",
    "def prepare_for_frontend(historical_df, forecast_df):\n",
    "    \"\"\"Prepare data in the format expected by frontend\"\"\"\n",
    "    \n",
    "    # Get last 168 hours of historical data\n",
    "    historical_recent = historical_df.tail(168).copy()\n",
    "    \n",
    "    # Convert datetime to string\n",
    "    historical_recent['date'] = historical_recent['datetime'].dt.strftime('%Y-%m-%d %H:%M')\n",
    "    forecast_df['date'] = forecast_df['datetime'].dt.strftime('%Y-%m-%d %H:%M')\n",
    "    \n",
    "    # Select only needed columns\n",
    "    historical_export = historical_recent[['date', 'rooms', 'cleaning', 'security']].to_dict('records')\n",
    "    forecast_export = forecast_df[['date', 'rooms', 'cleaning', 'security']].to_dict('records')\n",
    "    \n",
    "    return {\n",
    "        'historical': historical_export,\n",
    "        'forecast': forecast_export\n",
    "    }\n",
    "\n",
    "# Prepare the data\n",
    "frontend_data = prepare_for_frontend(historical_data, forecast)\n",
    "\n",
    "# Save to JSON file\n",
    "with open('wynn_forecast_data.json', 'w') as f:\n",
    "    json.dump(frontend_data, f, indent=2)\n",
    "\n",
    "print(f\"Exported {len(frontend_data['historical'])} historical records\")\n",
    "print(f\"Exported {len(frontend_data['forecast'])} forecast records\")\n",
    "print(\"\\nData saved to wynn_forecast_data.json\")"
   ]
  },
  {
   "cell_type": "markdown",
   "metadata": {},
   "source": [
    "## Summary\n",
    "\n",
    "We've built a forecasting model that:\n",
    "1. Generates realistic Vegas hotel patterns\n",
    "2. Trains on historical hourly data\n",
    "3. Produces 168-hour forecasts\n",
    "4. Exports data for our frontend\n",
    "\n",
    "Next steps: Connect this to our WebSocket backend!"
   ]
  }
 ],
 "metadata": {
  "kernelspec": {
   "display_name": "Python 3",
   "language": "python",
   "name": "python3"
  },
  "language_info": {
   "codemirror_mode": {
    "name": "ipython",
    "version": 3
   },
   "file_extension": ".py",
   "mimetype": "text/x-python",
   "name": "python",
   "nbconvert_exporter": "python",
   "pygments_lexer": "ipython3",
   "version": "3.8.0"
  }
 },
 "nbformat": 4,
 "nbformat_minor": 4
}
