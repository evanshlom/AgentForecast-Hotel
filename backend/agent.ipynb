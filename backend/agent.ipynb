{
 "cells": [
  {
   "cell_type": "markdown",
   "metadata": {},
   "source": [
    "# Wynn Resort Chatbot Agent Tutorial\n",
    "## Part 3: Building the Conversational AI Agent\n",
    "\n",
    "This notebook demonstrates the AI agent that understands Vegas hotel context and converts natural language into forecast adjustments."
   ]
  },
  {
   "cell_type": "code",
   "execution_count": null,
   "metadata": {},
   "outputs": [],
   "source": [
    "import os\n",
    "from datetime import datetime, timedelta\n",
    "import anthropic\n",
    "import json\n",
    "import re\n",
    "from dateutil import parser\n",
    "from dotenv import load_dotenv"
   ]
  },
  {
   "cell_type": "markdown",
   "metadata": {},
   "source": [
    "## Step 1: Set up Anthropic API"
   ]
  },
  {
   "cell_type": "code",
   "execution_count": null,
   "metadata": {},
   "outputs": [
    {
     "data": {
      "text/plain": [
       "True"
      ]
     },
     "execution_count": 2,
     "metadata": {},
     "output_type": "execute_result"
    }
   ],
   "source": [
    "# Load environment variables from .env file\n",
    "load_dotenv()\n",
    "\n",
    "# See .env.example for the format you should use in your .env file\n",
    "# For your own Anthropic API key, go to Anthropic and register an account then you will possibly need to buy $5 of Anthropic credits."
   ]
  },
  {
   "cell_type": "markdown",
   "metadata": {},
   "source": [
    "## Step 2: Build the Forecast Agent"
   ]
  },
  {
   "cell_type": "code",
   "execution_count": null,
   "metadata": {},
   "outputs": [
    {
     "name": "stdout",
     "output_type": "stream",
     "text": [
      "Wynn Forecast Agent initialized!\n"
     ]
    }
   ],
   "source": [
    "class WynnForecastAgent:\n",
    "    def __init__(self):\n",
    "        self.client = anthropic.Anthropic(api_key=os.environ.get('ANTHROPIC_API_KEY'))\n",
    "        self.conversation_history = []\n",
    "    \n",
    "    def get_next_monday(self):\n",
    "        \"\"\"Helper to find next Monday\"\"\"\n",
    "        today = datetime.now().date()\n",
    "        days_ahead = 0 - today.weekday()\n",
    "        if days_ahead <= 0:\n",
    "            days_ahead += 7\n",
    "        return today + timedelta(days_ahead)\n",
    "    \n",
    "    def parse_date_reference(self, date_str, base_date=None):\n",
    "        \"\"\"Parse natural language date references\"\"\"\n",
    "        if not base_date:\n",
    "            base_date = datetime.now().date()\n",
    "        \n",
    "        date_str = date_str.lower()\n",
    "        \n",
    "        if \"tomorrow\" in date_str:\n",
    "            return base_date + timedelta(days=1)\n",
    "        elif \"next week\" in date_str or \"next monday\" in date_str:\n",
    "            return self.get_next_monday()\n",
    "        elif \"this weekend\" in date_str:\n",
    "            days_until_friday = (4 - base_date.weekday()) % 7\n",
    "            if days_until_friday == 0 and base_date.weekday() == 4:\n",
    "                return base_date\n",
    "            return base_date + timedelta(days=days_until_friday)\n",
    "        elif \"fight night\" in date_str or \"fight weekend\" in date_str:\n",
    "            # Typically Saturday\n",
    "            days_until_saturday = (5 - base_date.weekday()) % 7\n",
    "            if days_until_saturday == 0:\n",
    "                days_until_saturday = 7\n",
    "            return base_date + timedelta(days=days_until_saturday)\n",
    "        \n",
    "        # Default to tomorrow\n",
    "        return base_date + timedelta(days=1)\n",
    "    \n",
    "    def process_message(self, message):\n",
    "        \"\"\"Process user message and return adjustments\"\"\"\n",
    "        self.conversation_history.append({\"role\": \"user\", \"content\": message})\n",
    "        \n",
    "        prompt = f\"\"\"You are an AI assistant for Wynn Resort Las Vegas operations forecasting. \n",
    "Analyze the user's message about hotel operations and extract any forecast modifications for:\n",
    "- rooms (occupancy percentage)\n",
    "- cleaning (staff needed)\n",
    "- security (staff needed)\n",
    "\n",
    "User message: \"{message}\"\n",
    "Today's date: {datetime.now().date()}\n",
    "Current time: {datetime.now().strftime('%H:%M')}\n",
    "Forecast period: Next 168 hours (7 days)\n",
    "\n",
    "Extract modifications and return JSON:\n",
    "{{\n",
    "    \"response\": \"Natural conversational response acknowledging the changes\",\n",
    "    \"modifications\": [\n",
    "        {{\n",
    "            \"metric\": \"rooms|cleaning|security\",\n",
    "            \"type\": \"percentage|absolute|set\",\n",
    "            \"value\": number,\n",
    "            \"start_date\": \"YYYY-MM-DD HH:MM\",\n",
    "            \"end_date\": \"YYYY-MM-DD HH:MM\",\n",
    "            \"reason\": \"brief explanation\"\n",
    "        }}\n",
    "    ]\n",
    "}}\n",
    "\n",
    "Vegas-specific examples:\n",
    "- \"Big fight this Saturday\" → Increase rooms to 95%+, add security\n",
    "- \"Convention checking in Monday morning\" → Increase cleaning staff 10am-2pm\n",
    "- \"Pool party season starting\" → More cleaning staff afternoons\n",
    "- \"Construction on the Strip\" → Might reduce walk-in traffic\n",
    "\n",
    "Consider hourly patterns:\n",
    "- Check-in rush: 3-6 PM\n",
    "- Check-out rush: 10 AM-12 PM\n",
    "- Casino security peaks: 10 PM-3 AM\n",
    "\n",
    "If just chatting (no modifications), return empty modifications array but still respond naturally.\"\"\"\n",
    "\n",
    "        try:\n",
    "            response = self.client.messages.create(\n",
    "                model=\"claude-3-5-sonnet-20241022\",\n",
    "                max_tokens=1000,\n",
    "                messages=[\n",
    "                    {\"role\": \"user\", \"content\": prompt}\n",
    "                ]\n",
    "            )\n",
    "            \n",
    "            text = response.content[0].text\n",
    "            \n",
    "            # Find JSON in response\n",
    "            json_match = re.search(r'\\{[\\s\\S]*\\}', text)\n",
    "            if json_match:\n",
    "                result = json.loads(json_match.group())\n",
    "                self.conversation_history.append({\"role\": \"assistant\", \"content\": result['response']})\n",
    "                return result\n",
    "            \n",
    "        except Exception as e:\n",
    "            print(f\"Agent error: {e}\")\n",
    "        \n",
    "        # Fallback response\n",
    "        fallback = {\n",
    "            \"response\": \"I understand you're asking about resort operations. Could you be more specific about what changes you'd like to make to the forecast?\",\n",
    "            \"modifications\": []\n",
    "        }\n",
    "        self.conversation_history.append({\"role\": \"assistant\", \"content\": fallback['response']})\n",
    "        return fallback\n",
    "\n",
    "# Create the agent\n",
    "agent = WynnForecastAgent()\n",
    "print(\"Wynn Forecast Agent initialized!\")"
   ]
  },
  {
   "cell_type": "markdown",
   "metadata": {},
   "source": [
    "## Step 3: Test Conversations"
   ]
  },
  {
   "cell_type": "code",
   "execution_count": null,
   "metadata": {},
   "outputs": [],
   "source": [
    "# Helper function to display conversations nicely\n",
    "def chat_with_agent(message):\n",
    "    print(f\"\\n👤 You: {message}\")\n",
    "    result = agent.process_message(message)\n",
    "    print(f\"\\n🤖 Agent: {result['response']}\")\n",
    "    \n",
    "    if result['modifications']:\n",
    "        print(\"\\n📊 Forecast Adjustments:\")\n",
    "        for mod in result['modifications']:\n",
    "            print(f\"   - {mod.get('metric', 'N/A')}: {mod.get('type', 'N/A')} \"\n",
    "                  f\"by {mod.get('value', 'N/A')} from {mod.get('start_date', 'N/A')} \"\n",
    "                  f\"to {mod.get('end_date', 'N/A')}\")\n",
    "            if 'reason' in mod:\n",
    "                print(f\"     Reason: {mod['reason']}\")\n",
    "    \n",
    "    return result"
   ]
  },
  {
   "cell_type": "code",
   "execution_count": null,
   "metadata": {},
   "outputs": [
    {
     "name": "stdout",
     "output_type": "stream",
     "text": [
      "\n",
      "👤 You: Hello! How are you doing today?\n",
      "Agent error: Error code: 401 - {'type': 'error', 'error': {'type': 'authentication_error', 'message': 'invalid x-api-key'}}\n",
      "\n",
      "🤖 Agent: I understand you're asking about resort operations. Could you be more specific about what changes you'd like to make to the forecast?\n"
     ]
    },
    {
     "data": {
      "text/plain": [
       "{'response': \"I understand you're asking about resort operations. Could you be more specific about what changes you'd like to make to the forecast?\",\n",
       " 'modifications': []}"
      ]
     },
     "execution_count": 5,
     "metadata": {},
     "output_type": "execute_result"
    }
   ],
   "source": [
    "# Test 1: Basic greeting\n",
    "chat_with_agent(\"Hello! How are you doing today?\")"
   ]
  },
  {
   "cell_type": "code",
   "execution_count": null,
   "metadata": {},
   "outputs": [
    {
     "name": "stdout",
     "output_type": "stream",
     "text": [
      "\n",
      "👤 You: There's a big UFC fight happening this Saturday night\n",
      "Agent error: Error code: 401 - {'type': 'error', 'error': {'type': 'authentication_error', 'message': 'invalid x-api-key'}}\n",
      "\n",
      "🤖 Agent: I understand you're asking about resort operations. Could you be more specific about what changes you'd like to make to the forecast?\n"
     ]
    },
    {
     "data": {
      "text/plain": [
       "{'response': \"I understand you're asking about resort operations. Could you be more specific about what changes you'd like to make to the forecast?\",\n",
       " 'modifications': []}"
      ]
     },
     "execution_count": 6,
     "metadata": {},
     "output_type": "execute_result"
    }
   ],
   "source": [
    "# Test 2: Event-based adjustment\n",
    "chat_with_agent(\"There's a big UFC fight happening this Saturday night\")"
   ]
  },
  {
   "cell_type": "code",
   "execution_count": null,
   "metadata": {},
   "outputs": [
    {
     "name": "stdout",
     "output_type": "stream",
     "text": [
      "\n",
      "👤 You: We have a tech convention with 5000 attendees checking in Monday morning\n",
      "Agent error: Error code: 401 - {'type': 'error', 'error': {'type': 'authentication_error', 'message': 'invalid x-api-key'}}\n",
      "\n",
      "🤖 Agent: I understand you're asking about resort operations. Could you be more specific about what changes you'd like to make to the forecast?\n"
     ]
    },
    {
     "data": {
      "text/plain": [
       "{'response': \"I understand you're asking about resort operations. Could you be more specific about what changes you'd like to make to the forecast?\",\n",
       " 'modifications': []}"
      ]
     },
     "execution_count": 7,
     "metadata": {},
     "output_type": "execute_result"
    }
   ],
   "source": [
    "# Test 3: Convention adjustment\n",
    "chat_with_agent(\"We have a tech convention with 5000 attendees checking in Monday morning\")"
   ]
  },
  {
   "cell_type": "code",
   "execution_count": null,
   "metadata": {},
   "outputs": [
    {
     "name": "stdout",
     "output_type": "stream",
     "text": [
      "\n",
      "👤 You: Pool party season is starting this weekend. Expecting younger crowds and messier rooms.\n",
      "Agent error: Error code: 401 - {'type': 'error', 'error': {'type': 'authentication_error', 'message': 'invalid x-api-key'}}\n",
      "\n",
      "🤖 Agent: I understand you're asking about resort operations. Could you be more specific about what changes you'd like to make to the forecast?\n"
     ]
    },
    {
     "data": {
      "text/plain": [
       "{'response': \"I understand you're asking about resort operations. Could you be more specific about what changes you'd like to make to the forecast?\",\n",
       " 'modifications': []}"
      ]
     },
     "execution_count": 8,
     "metadata": {},
     "output_type": "execute_result"
    }
   ],
   "source": [
    "# Test 4: Multiple metrics\n",
    "chat_with_agent(\"Pool party season is starting this weekend. Expecting younger crowds and messier rooms.\")"
   ]
  },
  {
   "cell_type": "code",
   "execution_count": null,
   "metadata": {},
   "outputs": [
    {
     "name": "stdout",
     "output_type": "stream",
     "text": [
      "\n",
      "👤 You: Our competitor had some incidents last night. Better increase security for the weekend.\n",
      "Agent error: Error code: 401 - {'type': 'error', 'error': {'type': 'authentication_error', 'message': 'invalid x-api-key'}}\n",
      "\n",
      "🤖 Agent: I understand you're asking about resort operations. Could you be more specific about what changes you'd like to make to the forecast?\n"
     ]
    },
    {
     "data": {
      "text/plain": [
       "{'response': \"I understand you're asking about resort operations. Could you be more specific about what changes you'd like to make to the forecast?\",\n",
       " 'modifications': []}"
      ]
     },
     "execution_count": 9,
     "metadata": {},
     "output_type": "execute_result"
    }
   ],
   "source": [
    "# Test 5: Security concern\n",
    "chat_with_agent(\"Our competitor had some incidents last night. Better increase security for the weekend.\")"
   ]
  },
  {
   "cell_type": "markdown",
   "metadata": {},
   "source": [
    "## Step 4: Simulate a Full Conversation"
   ]
  },
  {
   "cell_type": "code",
   "execution_count": null,
   "metadata": {},
   "outputs": [
    {
     "name": "stdout",
     "output_type": "stream",
     "text": [
      "=== Full Conversation Demo ===\n",
      "\n",
      "👤 You: Hi! I'm the operations manager. Can you help me adjust our staffing forecast?\n",
      "Agent error: Error code: 401 - {'type': 'error', 'error': {'type': 'authentication_error', 'message': 'invalid x-api-key'}}\n",
      "\n",
      "🤖 Agent: I understand you're asking about resort operations. Could you be more specific about what changes you'd like to make to the forecast?\n",
      "\n",
      "👤 You: We just got word that there's a huge boxing match this Saturday\n",
      "Agent error: Error code: 401 - {'type': 'error', 'error': {'type': 'authentication_error', 'message': 'invalid x-api-key'}}\n",
      "\n",
      "🤖 Agent: I understand you're asking about resort operations. Could you be more specific about what changes you'd like to make to the forecast?\n",
      "\n",
      "👤 You: Also, the pool deck construction finished early, so we can open it tomorrow\n",
      "Agent error: Error code: 401 - {'type': 'error', 'error': {'type': 'authentication_error', 'message': 'invalid x-api-key'}}\n",
      "\n",
      "🤖 Agent: I understand you're asking about resort operations. Could you be more specific about what changes you'd like to make to the forecast?\n",
      "\n",
      "👤 You: What changes have we made so far?\n",
      "Agent error: Error code: 401 - {'type': 'error', 'error': {'type': 'authentication_error', 'message': 'invalid x-api-key'}}\n",
      "\n",
      "🤖 Agent: I understand you're asking about resort operations. Could you be more specific about what changes you'd like to make to the forecast?\n"
     ]
    },
    {
     "data": {
      "text/plain": [
       "{'response': \"I understand you're asking about resort operations. Could you be more specific about what changes you'd like to make to the forecast?\",\n",
       " 'modifications': []}"
      ]
     },
     "execution_count": 10,
     "metadata": {},
     "output_type": "execute_result"
    }
   ],
   "source": [
    "# Have a multi-turn conversation\n",
    "print(\"=== Full Conversation Demo ===\")\n",
    "\n",
    "chat_with_agent(\"Hi! I'm the operations manager. Can you help me adjust our staffing forecast?\")\n",
    "chat_with_agent(\"We just got word that there's a huge boxing match this Saturday\")\n",
    "chat_with_agent(\"Also, the pool deck construction finished early, so we can open it tomorrow\")\n",
    "chat_with_agent(\"What changes have we made so far?\")"
   ]
  },
  {
   "cell_type": "markdown",
   "metadata": {},
   "source": [
    "## Step 5: Export Agent Logic for Backend Integration"
   ]
  },
  {
   "cell_type": "code",
   "execution_count": null,
   "metadata": {},
   "outputs": [
    {
     "name": "stdout",
     "output_type": "stream",
     "text": [
      "Agent code template saved to wynn_forecast_agent.py\n",
      "\n",
      "Next steps:\n",
      "1. Copy the full WynnForecastAgent class to the file\n",
      "2. Integrate with WebSocket backend\n",
      "3. Connect forecast adjustments to the RNN model\n"
     ]
    }
   ],
   "source": [
    "# Save the agent class to a file for later use\n",
    "agent_code = '''\n",
    "import os\n",
    "from datetime import datetime, timedelta\n",
    "import anthropic\n",
    "import json\n",
    "import re\n",
    "\n",
    "class WynnForecastAgent:\n",
    "    \"\"\"AI Agent for Wynn Resort forecast adjustments\"\"\"\n",
    "    \n",
    "    def __init__(self):\n",
    "        self.client = anthropic.Anthropic(api_key=os.environ.get('ANTHROPIC_API_KEY'))\n",
    "        self.conversation_history = []\n",
    "    \n",
    "    # ... (rest of the class implementation)\n",
    "'''\n",
    "\n",
    "with open('wynn_forecast_agent.py', 'w') as f:\n",
    "    f.write(\"# Wynn Resort Forecast Agent\\n\")\n",
    "    f.write(\"# This file contains the conversational AI logic\\n\\n\")\n",
    "    f.write(\"# Copy the WynnForecastAgent class from the notebook here\\n\")\n",
    "\n",
    "print(\"Agent code template saved to wynn_forecast_agent.py\")\n",
    "print(\"\\nNext steps:\")\n",
    "print(\"1. Copy the full WynnForecastAgent class to the file\")\n",
    "print(\"2. Integrate with WebSocket backend\")\n",
    "print(\"3. Connect forecast adjustments to the RNN model\")"
   ]
  },
  {
   "cell_type": "markdown",
   "metadata": {},
   "source": [
    "## Summary\n",
    "\n",
    "We've built a conversational AI agent that:\n",
    "1. Understands Vegas hotel context\n",
    "2. Parses natural language into structured adjustments\n",
    "3. Maintains conversation history\n",
    "4. Handles various scenarios (fights, conventions, security)\n",
    "\n",
    "The agent is ready to be integrated with our forecast model and WebSocket backend!"
   ]
  }
 ],
 "metadata": {
  "kernelspec": {
   "display_name": "Python 3",
   "language": "python",
   "name": "python3"
  },
  "language_info": {
   "codemirror_mode": {
    "name": "ipython",
    "version": 3
   },
   "file_extension": ".py",
   "mimetype": "text/x-python",
   "name": "python",
   "nbconvert_exporter": "python",
   "pygments_lexer": "ipython3",
   "version": "3.9.23"
  }
 },
 "nbformat": 4,
 "nbformat_minor": 4
}
